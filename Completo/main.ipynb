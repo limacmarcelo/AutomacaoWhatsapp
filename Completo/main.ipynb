{
 "cells": [
  {
   "cell_type": "code",
   "execution_count": 2,
   "metadata": {},
   "outputs": [],
   "source": [
    "import pandas as pd\n",
    "import pyautogui as py\n",
    "import pyperclip\n",
    "import urllib\n",
    "import time\n",
    "from selenium import webdriver\n",
    "from selenium.webdriver.common.keys import Keys\n",
    "from selenium.webdriver.common.by import By\n",
    "from selenium.webdriver.common.alert import Alert\n",
    "from selenium.webdriver.chrome.service import Service"
   ]
  },
  {
   "cell_type": "code",
   "execution_count": 4,
   "metadata": {},
   "outputs": [
    {
     "name": "stdout",
     "output_type": "stream",
     "text": [
      "        Mensagem:      Telefone:\n",
      "0  Olá, tudo bem?  5521965301589\n",
      "1  Olá, tudo bem?  5521994791946\n",
      "2  Olá, tudo bem?  5521976081792\n",
      "3  Olá, tudo bem?  5521996774697\n"
     ]
    }
   ],
   "source": [
    "# importando o DataFrame\n",
    "df = pd.read_excel('C:/Users/Marcelo Lima/CiênciaDeDados/Meus_projetos/AutomacaoWhatsApp/DataFrames/contatos_testes.xlsx')"
   ]
  },
  {
   "cell_type": "code",
   "execution_count": 16,
   "metadata": {},
   "outputs": [],
   "source": [
    "# abrindo o navegador e acessando o site\n",
    "navegador = webdriver.Chrome()\n",
    "navegador.get('https://web.whatsapp.com/')\n",
    "while len(navegador.find_elements(By.ID, 'side')) < 1:\n",
    "  time.sleep(1)\n",
    "time.sleep(2)\n",
    "\n",
    "# criando o for para cada linha do DataFrame\n",
    "for linha in df.index:\n",
    "    mensagem = df.loc[linha, 'Mensagem:']\n",
    "    telefone = df.loc[linha, 'Telefone:']\n",
    "\n",
    "    # convertendo a mensagem para linguagem da api do link\n",
    "    texto = urllib.parse.quote(mensagem)\n",
    "    \n",
    "    # gerando o link com telefones e a mensagem\n",
    "    link = f'https://web.whatsapp.com/send?phone={telefone}&text={texto}'\n",
    "\n",
    "    # abrindo o link criado para enviar a mensagem\n",
    "    navegador.get(link)\n",
    "    \n",
    "    # aguardar a página carregar\n",
    "    while len(navegador.find_elements(By.ID, 'side')) < 1:\n",
    "      time.sleep(1)\n",
    "    time.sleep(2)\n",
    "\n",
    "    # enviar a mensagem\n",
    "    navegador.find_element(By.XPATH, '//*[@id=\"main\"]/footer/div[1]/div/span[2]/div/div[2]/div[2]/button/span').click()\n",
    "    time.sleep(2)"
   ]
  },
  {
   "cell_type": "code",
   "execution_count": 1,
   "metadata": {},
   "outputs": [
    {
     "ename": "NameError",
     "evalue": "name 'df' is not defined",
     "output_type": "error",
     "traceback": [
      "\u001b[1;31m---------------------------------------------------------------------------\u001b[0m",
      "\u001b[1;31mNameError\u001b[0m                                 Traceback (most recent call last)",
      "\u001b[1;32m~\\AppData\\Local\\Temp\\ipykernel_10216\\400103009.py\u001b[0m in \u001b[0;36m<module>\u001b[1;34m\u001b[0m\n\u001b[1;32m----> 1\u001b[1;33m \u001b[0mprint\u001b[0m\u001b[1;33m(\u001b[0m\u001b[0mdf\u001b[0m\u001b[1;33m)\u001b[0m\u001b[1;33m\u001b[0m\u001b[1;33m\u001b[0m\u001b[0m\n\u001b[0m",
      "\u001b[1;31mNameError\u001b[0m: name 'df' is not defined"
     ]
    }
   ],
   "source": []
  },
  {
   "cell_type": "code",
   "execution_count": null,
   "metadata": {},
   "outputs": [],
   "source": [
    "# # criando o for para cada linha do DataFrame\n",
    "# for linha in df.index:\n",
    "#     mensagem = df.loc[linha, 'Mensagem:']\n",
    "#     telefone = df.loc[linha, 'Telefone:']\n",
    "\n",
    "#     # convertendo a mensagem para linguagem da api do link\n",
    "#     texto = urllib.parse.quote(mensagem)\n",
    "    \n",
    "#     # gerando o link com telefones e a mensagem\n",
    "#     link = f'https://web.whatsapp.com/send?phone={telefone}&text={texto}'\n",
    "\n",
    "#     # abrindo o link criado para enviar a mensagem\n",
    "#     navegador.get(link)\n",
    "    \n",
    "#     # aguardar a página carregar\n",
    "#     while len(navegador.find_elements(By.ID, 'side')) < 1:\n",
    "#       time.sleep(1)\n",
    "#     time.sleep(2)\n",
    "\n",
    "#     # enviar a mensagem\n",
    "#     navegador.find_element(By.XPATH, '//*[@id=\"main\"]/footer/div[1]/div/span[2]/div/div[2]/div[2]/button/span').click()\n",
    "#     time.sleep(2)"
   ]
  },
  {
   "cell_type": "code",
   "execution_count": 3,
   "metadata": {},
   "outputs": [],
   "source": [
    "# # criando o for para cada linha do DataFrame\n",
    "# for linha in df.index:\n",
    "#     mensagem = df.loc[linha, 'Mensagem:']\n",
    "#     telefone = df.loc[linha, 'Telefone:']\n",
    "\n",
    "#     # convertendo a mensagem para linguagem da api do link\n",
    "#     texto = urllib.parse.quote(mensagem)\n",
    "    \n",
    "#     # gerando o link com telefones e a mensagem\n",
    "#     link = f'https://api.whatsapp.com/send?phone={telefone}&text={texto}'\n",
    "\n",
    "#     # abrindo o link criado para enviar a mensagem\n",
    "#     navegador.get(link)\n",
    "#     # quebrando a barreira de segurança do web WhatsApp com pyautogui para clicks\n",
    "#     navegador.find_elements(By.XPATH, '//*[@id=\"app\"]/div/span[2]/div/span/div/div/div/div/div/div[1]')\n",
    "#     time.sleep(1)\n",
    "#     py.click(x=392, y=227)\n",
    "#     time.sleep(1)\n",
    "#     py.click(x=781, y=299)\n",
    "#     time.sleep(2)\n",
    "#     # quebrando a segunda barreira de segurança do web WhatsApp\n",
    "#     navegador.find_element(By.XPATH, '//*[@id=\"action-button\"]/span').click()\n",
    "#     time.sleep(1)\n",
    "#     navegador.find_element(By.XPATH, '//*[@id=\"fallback_block\"]/div/div/h4[2]/a/span').click()\n",
    "    \n",
    "#     # enviar mensagem\n",
    "#     time.sleep(5)\n",
    "#     if len(navegador.find_elements(By.XPATH, '//*[@id=\"app\"]/div/span[2]/div/span/div/div/div/div/div/div[1]')) < 1:\n",
    "#       navegador.find_element(By.XPATH, '//*[@id=\"main\"]/footer/div[1]/div/span[2]/div/div[2]/div[2]/button/span').click()\n",
    "    \n",
    "#     time.sleep(2)"
   ]
  },
  {
   "cell_type": "code",
   "execution_count": 17,
   "metadata": {},
   "outputs": [],
   "source": []
  }
 ],
 "metadata": {
  "kernelspec": {
   "display_name": "base",
   "language": "python",
   "name": "python3"
  },
  "language_info": {
   "codemirror_mode": {
    "name": "ipython",
    "version": 3
   },
   "file_extension": ".py",
   "mimetype": "text/x-python",
   "name": "python",
   "nbconvert_exporter": "python",
   "pygments_lexer": "ipython3",
   "version": "3.9.13 (main, Aug 25 2022, 23:51:50) [MSC v.1916 64 bit (AMD64)]"
  },
  "orig_nbformat": 4,
  "vscode": {
   "interpreter": {
    "hash": "15e9aa6fb2ffabbd80a18999d5a5f9a57099e25d000b671e47f83b372af8ecbf"
   }
  }
 },
 "nbformat": 4,
 "nbformat_minor": 2
}
