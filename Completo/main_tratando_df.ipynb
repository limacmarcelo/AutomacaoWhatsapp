{
 "cells": [
  {
   "cell_type": "code",
   "execution_count": 36,
   "metadata": {},
   "outputs": [],
   "source": [
    "import pandas as pd\n",
    "import pyautogui as py\n",
    "import pyperclip\n",
    "import urllib\n",
    "import time\n",
    "from selenium import webdriver\n",
    "from selenium.webdriver.common.keys import Keys\n",
    "from selenium.webdriver.common.by import By\n",
    "from selenium.webdriver.common.alert import Alert\n",
    "from selenium.webdriver.chrome.service import Service"
   ]
  },
  {
   "cell_type": "code",
   "execution_count": 37,
   "metadata": {},
   "outputs": [],
   "source": [
    "# importando o DataFrame\n",
    "df = pd.read_csv('C:/Users/Marcelo Lima/Desktop/Gravity Agência/Projeto Retomada/Lista para prospecções/01-02-23/clinicas_estetica_divinopolis.csv')\n",
    "\n",
    "# removendo colunas indesejadas\n",
    "df.drop(columns=['title', 'placeUrl', 'website', 'status', 'subtitle', 'rating', 'reviewCount', 'category', 'address', 'searchQuery'], axis=1, inplace=True)\n",
    "# removendo valores nulos\n",
    "df.dropna(inplace=True)\n",
    "\n",
    "# criando colunas\n",
    "df['Mensagem:'] = 'Olá, tudo bem?'\n",
    "\n",
    "# tratando caracteres especiais\n",
    "df['phoneNumber'] = df['phoneNumber'].apply(lambda x: str(x).replace('+', ''))\n",
    "df['phoneNumber'] = df['phoneNumber'].apply(lambda x: str(x).replace(' ', ''))\n",
    "df['phoneNumber'] = df['phoneNumber'].apply(lambda x: str(x).replace('-', ''))\n",
    "df['phoneNumber'] = df['phoneNumber'].apply(lambda x: str(x).replace('(', ''))\n",
    "df['phoneNumber'] = df['phoneNumber'].apply(lambda x: str(x).replace(')', ''))\n",
    "\n",
    "# adicionando o código do país nos números que não tem\n",
    "df['phoneNumber'] = df['phoneNumber'].apply(lambda x: '55' + x if '55' not in x else x)\n",
    "\n",
    "# # separando em lista menores com 50 números\n",
    "if len(df) < 100:\n",
    "  df1 = df[0:51]\n",
    "  df2 = df[51:101]\n",
    "elif len(df) > 150:\n",
    "  df1 = df[0:51]\n",
    "  df2 = df[51:101]\n",
    "  df3 = df[101:151]\n",
    "elif len(df) < 200:\n",
    "  df1 = df[0:51]\n",
    "  df2 = df[51:101]\n",
    "  df3 = df[101:151]\n",
    "  df4 = df[151:201]"
   ]
  },
  {
   "cell_type": "code",
   "execution_count": 38,
   "metadata": {},
   "outputs": [],
   "source": [
    "# abrindo o navegador e acessando o site\n",
    "navegador = webdriver.Chrome()\n",
    "navegador.get('https://web.whatsapp.com/')\n",
    "while len(navegador.find_elements(By.ID, 'side')) < 1:\n",
    "  time.sleep(1)\n",
    "time.sleep(2)\n",
    "\n",
    "\n",
    "# criando o for para cada linha do DataFrame\n",
    "for linha in df3.index:\n",
    "    mensagem = df3.loc[linha, 'Mensagem:']\n",
    "    telefone = df3.loc[linha, 'phoneNumber']\n",
    "\n",
    "    # convertendo a mensagem para linguagem da api do link\n",
    "    texto = urllib.parse.quote(mensagem)\n",
    "    \n",
    "    # gerando o link com telefones e a mensagem\n",
    "    link = f'https://web.whatsapp.com/send?phone={telefone}&text={texto}'\n",
    "\n",
    "    # abrindo o link criado para enviar a mensagem\n",
    "    navegador.get(link)\n",
    "    \n",
    "    # aguardar a página carregar\n",
    "    while len(navegador.find_elements(By.ID, 'side')) < 1:\n",
    "      time.sleep(1)\n",
    "    time.sleep(5)\n",
    "\n",
    "    # enviar a mensagem\n",
    "    if len(navegador.find_elements(By.XPATH, '//*[@id=\"app\"]/div/span[2]/div/span/div/div/div/div/div/div[1]')) < 1:\n",
    "      navegador.find_element(By.XPATH, '//*[@id=\"main\"]/footer/div[1]/div/span[2]/div/div[2]/div[2]/button/span').click()\n",
    "    \n",
    "    time.sleep(3)"
   ]
  },
  {
   "cell_type": "code",
   "execution_count": null,
   "metadata": {},
   "outputs": [],
   "source": []
  }
 ],
 "metadata": {
  "kernelspec": {
   "display_name": "base",
   "language": "python",
   "name": "python3"
  },
  "language_info": {
   "codemirror_mode": {
    "name": "ipython",
    "version": 3
   },
   "file_extension": ".py",
   "mimetype": "text/x-python",
   "name": "python",
   "nbconvert_exporter": "python",
   "pygments_lexer": "ipython3",
   "version": "3.9.13 (main, Aug 25 2022, 23:51:50) [MSC v.1916 64 bit (AMD64)]"
  },
  "orig_nbformat": 4,
  "vscode": {
   "interpreter": {
    "hash": "15e9aa6fb2ffabbd80a18999d5a5f9a57099e25d000b671e47f83b372af8ecbf"
   }
  }
 },
 "nbformat": 4,
 "nbformat_minor": 2
}
