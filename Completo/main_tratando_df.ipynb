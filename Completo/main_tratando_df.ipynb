{
 "cells": [
  {
   "cell_type": "code",
   "execution_count": 2,
   "metadata": {},
   "outputs": [],
   "source": [
    "import pandas as pd\n",
    "import pyautogui as py\n",
    "import pyperclip\n",
    "import urllib\n",
    "import time\n",
    "from selenium import webdriver\n",
    "from selenium.webdriver.common.keys import Keys\n",
    "from selenium.webdriver.common.by import By\n",
    "from selenium.webdriver.common.alert import Alert\n",
    "from selenium.webdriver.chrome.service import Service"
   ]
  },
  {
   "attachments": {},
   "cell_type": "markdown",
   "metadata": {},
   "source": [
    "Criando funções"
   ]
  },
  {
   "cell_type": "code",
   "execution_count": 47,
   "metadata": {},
   "outputs": [],
   "source": [
    "# criando functions\n",
    "def enviar_mensagens(lista):\n",
    "  for linha in lista.index:\n",
    "    mensagem = df.loc[linha, 'Mensagem:']\n",
    "    telefone = df.loc[linha, 'phoneNumber']\n",
    "    texto = urllib.parse.quote(mensagem)\n",
    "    link = f'https://web.whatsapp.com/send?phone={telefone}&text={texto}'\n",
    "    navegador.get(link)\n",
    "    # aguardar a página carregar\n",
    "    while len(navegador.find_elements(By.ID, 'side')) < 1:\n",
    "      time.sleep(1)\n",
    "    time.sleep(5)\n",
    "    # enviar a mensagem\n",
    "    if len(navegador.find_elements(By.XPATH, '//*[@id=\"app\"]/div/span[2]/div/span/div/div/div/div/div/div[1]')) < 1:\n",
    "      navegador.find_element(By.XPATH, '//*[@id=\"main\"]/footer/div[1]/div/span[2]/div/div[2]/div[2]/button/span').click()\n",
    "    \n",
    "    time.sleep(3)\n",
    "\n",
    "\n",
    "def abrir_navegador(link):\n",
    "  navegador = webdriver.Chrome()\n",
    "  navegador.get(link)\n",
    "  while len(navegador.find_elements(By.ID, 'side')) < 1:\n",
    "    time.sleep(1)\n",
    "  time.sleep(2)\n",
    "  return navegador\n",
    "\n",
    "\n",
    "def padronizar_numero(DataFrame):\n",
    "  df['phoneNumber'] = df['phoneNumber'].apply(lambda x: str(x).replace('+', ''))\n",
    "  df['phoneNumber'] = df['phoneNumber'].apply(lambda x: str(x).replace(' ', ''))\n",
    "  df['phoneNumber'] = df['phoneNumber'].apply(lambda x: str(x).replace('-', ''))\n",
    "  df['phoneNumber'] = df['phoneNumber'].apply(lambda x: str(x).replace('(', ''))\n",
    "  df['phoneNumber'] = df['phoneNumber'].apply(lambda x: str(x).replace(')', ''))\n",
    "  df['phoneNumber'] = df['phoneNumber'].apply(lambda x: '55' + x if '55' not in x else x)\n",
    "\n",
    "# def fracionar_df(DataFrame):\n",
    "#   if len(DataFrame) < 100:\n",
    "#     df1 = DataFrame[0:51]\n",
    "#     df2 = DataFrame[51:101]\n",
    "#   elif len(DataFrame) > 150:\n",
    "#     df1 = DataFrame[0:51]\n",
    "#     df2 = DataFrame[51:101]\n",
    "#     df3 = DataFrame[101:151]\n",
    "#   elif len(DataFrame) < 200:\n",
    "#     df1 = DataFrame[0:51]\n",
    "#     df2 = DataFrame[51:101]\n",
    "#     df3 = DataFrame[101:151]\n",
    "#     df4 = DataFrame[151:201]\n"
   ]
  },
  {
   "attachments": {},
   "cell_type": "markdown",
   "metadata": {},
   "source": [
    "Importando e tratando dataframe"
   ]
  },
  {
   "cell_type": "code",
   "execution_count": 63,
   "metadata": {},
   "outputs": [],
   "source": [
    "# importando o DataFrame\n",
    "df = pd.read_excel('C:/Python/GitHub/AutomacaoWhatsapp/DataFrames/25_01_23/clinicas_esteticas_rj_01.xlsx')\n",
    "\n",
    "# removendo colunas indesejadas\n",
    "if len(df.columns) > 2:\n",
    "  df.drop(columns=['Nome:', 'rating'], axis=1, inplace=True)\n",
    "\n",
    "# criando colunas\n",
    "df['Mensagem:'] = 'Olá, tudo bem?'\n",
    "\n",
    "# removendo valores nulos\n",
    "df.dropna(inplace=True)\n",
    "\n",
    "padronizar_numero(df)\n",
    "\n",
    "if len(df) < 100:\n",
    "  df1 = df[0:51]\n",
    "  df2 = df[51:101]\n",
    "elif len(df) < 150:\n",
    "  df1 = df[0:51]\n",
    "  df2 = df[51:101]\n",
    "  df3 = df[101:151]\n",
    "elif len(df) < 200:\n",
    "  df1 = df[0:51]\n",
    "  df2 = df[51:101]\n",
    "  df3 = df[101:151]\n",
    "  df4 = df[151:201]\n"
   ]
  },
  {
   "attachments": {},
   "cell_type": "markdown",
   "metadata": {},
   "source": [
    "Rodando automação"
   ]
  },
  {
   "cell_type": "code",
   "execution_count": 8,
   "metadata": {},
   "outputs": [],
   "source": [
    "navegador = abrir_navegador('https://web.whatsapp.com/')\n",
    "enviar_mensagens(df1)\n"
   ]
  },
  {
   "cell_type": "code",
   "execution_count": null,
   "metadata": {},
   "outputs": [],
   "source": [
    "# # tratando caracteres especiais\n",
    "# df['phoneNumber'] = df['phoneNumber'].apply(lambda x: str(x).replace('+', ''))\n",
    "# df['phoneNumber'] = df['phoneNumber'].apply(lambda x: str(x).replace(' ', ''))\n",
    "# df['phoneNumber'] = df['phoneNumber'].apply(lambda x: str(x).replace('-', ''))\n",
    "# df['phoneNumber'] = df['phoneNumber'].apply(lambda x: str(x).replace('(', ''))\n",
    "# df['phoneNumber'] = df['phoneNumber'].apply(lambda x: str(x).replace(')', ''))\n",
    "\n",
    "# # adicionando o código do país nos números que não tem\n",
    "# df['phoneNumber'] = df['phoneNumber'].apply(lambda x: '55' + x if '55' not in x else x)\n",
    "\n",
    "# # separando em lista menores com 50 números\n",
    "# if len(df) < 100:\n",
    "#   df1 = df[0:51]\n",
    "#   df2 = df[51:101]\n",
    "# elif len(df) > 150:\n",
    "#   df1 = df[0:51]\n",
    "#   df2 = df[51:101]\n",
    "#   df3 = df[101:151]\n",
    "# elif len(df) < 200:\n",
    "#   df1 = df[0:51]\n",
    "#   df2 = df[51:101]\n",
    "#   df3 = df[101:151]\n",
    "#   df4 = df[151:201]\n",
    "\n",
    "# # abrindo o navegador e acessando o site\n",
    "# navegador = webdriver.Chrome()\n",
    "# navegador.get('https://web.whatsapp.com/')\n",
    "# while len(navegador.find_elements(By.ID, 'side')) < 1:\n",
    "#   time.sleep(1)\n",
    "# time.sleep(2)\n",
    "\n",
    "# jeito antigo\n",
    "# # criando o for para cada linha do DataFrame\n",
    "# for linha in df3.index:\n",
    "#     mensagem = df3.loc[linha, 'Mensagem:']\n",
    "#     telefone = df3.loc[linha, 'phoneNumber']\n",
    "\n",
    "#     # convertendo a mensagem para linguagem da api do link\n",
    "#     texto = urllib.parse.quote(mensagem)\n",
    "    \n",
    "#     # gerando o link com telefones e a mensagem\n",
    "#     link = f'https://web.whatsapp.com/send?phone={telefone}&text={texto}'\n",
    "\n",
    "#     # abrindo o link criado para enviar a mensagem\n",
    "#     navegador.get(link)\n",
    "    \n",
    "#     # aguardar a página carregar\n",
    "#     while len(navegador.find_elements(By.ID, 'side')) < 1:\n",
    "#       time.sleep(1)\n",
    "#     time.sleep(5)\n",
    "\n",
    "#     # enviar a mensagem\n",
    "#     if len(navegador.find_elements(By.XPATH, '//*[@id=\"app\"]/div/span[2]/div/span/div/div/div/div/div/div[1]')) < 1:\n",
    "#       navegador.find_element(By.XPATH, '//*[@id=\"main\"]/footer/div[1]/div/span[2]/div/div[2]/div[2]/button/span').click()\n",
    "    \n",
    "#     time.sleep(3)"
   ]
  }
 ],
 "metadata": {
  "kernelspec": {
   "display_name": "base",
   "language": "python",
   "name": "python3"
  },
  "language_info": {
   "codemirror_mode": {
    "name": "ipython",
    "version": 3
   },
   "file_extension": ".py",
   "mimetype": "text/x-python",
   "name": "python",
   "nbconvert_exporter": "python",
   "pygments_lexer": "ipython3",
   "version": "3.9.13"
  },
  "orig_nbformat": 4,
  "vscode": {
   "interpreter": {
    "hash": "15e9aa6fb2ffabbd80a18999d5a5f9a57099e25d000b671e47f83b372af8ecbf"
   }
  }
 },
 "nbformat": 4,
 "nbformat_minor": 2
}
